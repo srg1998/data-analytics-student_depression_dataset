{
 "cells": [
  {
   "cell_type": "code",
   "execution_count": 3,
   "id": "a07ca519-ed61-41b6-a3f2-d2bfd9bfce5a",
   "metadata": {},
   "outputs": [],
   "source": [
    "import pandas as pd\n",
    "import numpy as np\n",
    "import matplotlib.pyplot as plt \n",
    "import seaborn as sns\n",
    "df=pd.read_csv(\"student_depression_dataset.csv\")"
   ]
  },
  {
   "cell_type": "code",
   "execution_count": 4,
   "id": "4b53568c-331f-418e-b533-26a64c40e53a",
   "metadata": {},
   "outputs": [
    {
     "data": {
      "text/html": [
       "<div>\n",
       "<style scoped>\n",
       "    .dataframe tbody tr th:only-of-type {\n",
       "        vertical-align: middle;\n",
       "    }\n",
       "\n",
       "    .dataframe tbody tr th {\n",
       "        vertical-align: top;\n",
       "    }\n",
       "\n",
       "    .dataframe thead th {\n",
       "        text-align: right;\n",
       "    }\n",
       "</style>\n",
       "<table border=\"1\" class=\"dataframe\">\n",
       "  <thead>\n",
       "    <tr style=\"text-align: right;\">\n",
       "      <th></th>\n",
       "      <th>id</th>\n",
       "      <th>Gender</th>\n",
       "      <th>Age</th>\n",
       "      <th>City</th>\n",
       "      <th>Profession</th>\n",
       "      <th>Academic Pressure</th>\n",
       "      <th>Work Pressure</th>\n",
       "      <th>CGPA</th>\n",
       "      <th>Study Satisfaction</th>\n",
       "      <th>Job Satisfaction</th>\n",
       "      <th>Sleep Duration</th>\n",
       "      <th>Dietary Habits</th>\n",
       "      <th>Degree</th>\n",
       "      <th>Have you ever had suicidal thoughts ?</th>\n",
       "      <th>Work/Study Hours</th>\n",
       "      <th>Financial Stress</th>\n",
       "      <th>Family History of Mental Illness</th>\n",
       "      <th>Depression</th>\n",
       "    </tr>\n",
       "  </thead>\n",
       "  <tbody>\n",
       "    <tr>\n",
       "      <th>0</th>\n",
       "      <td>2</td>\n",
       "      <td>Male</td>\n",
       "      <td>33.0</td>\n",
       "      <td>Visakhapatnam</td>\n",
       "      <td>Student</td>\n",
       "      <td>5.0</td>\n",
       "      <td>0.0</td>\n",
       "      <td>8.97</td>\n",
       "      <td>2.0</td>\n",
       "      <td>0.0</td>\n",
       "      <td>'5-6 hours'</td>\n",
       "      <td>Healthy</td>\n",
       "      <td>B.Pharm</td>\n",
       "      <td>Yes</td>\n",
       "      <td>3.0</td>\n",
       "      <td>1.0</td>\n",
       "      <td>No</td>\n",
       "      <td>1</td>\n",
       "    </tr>\n",
       "    <tr>\n",
       "      <th>1</th>\n",
       "      <td>8</td>\n",
       "      <td>Female</td>\n",
       "      <td>24.0</td>\n",
       "      <td>Bangalore</td>\n",
       "      <td>Student</td>\n",
       "      <td>2.0</td>\n",
       "      <td>0.0</td>\n",
       "      <td>5.90</td>\n",
       "      <td>5.0</td>\n",
       "      <td>0.0</td>\n",
       "      <td>'5-6 hours'</td>\n",
       "      <td>Moderate</td>\n",
       "      <td>BSc</td>\n",
       "      <td>No</td>\n",
       "      <td>3.0</td>\n",
       "      <td>2.0</td>\n",
       "      <td>Yes</td>\n",
       "      <td>0</td>\n",
       "    </tr>\n",
       "    <tr>\n",
       "      <th>2</th>\n",
       "      <td>26</td>\n",
       "      <td>Male</td>\n",
       "      <td>31.0</td>\n",
       "      <td>Srinagar</td>\n",
       "      <td>Student</td>\n",
       "      <td>3.0</td>\n",
       "      <td>0.0</td>\n",
       "      <td>7.03</td>\n",
       "      <td>5.0</td>\n",
       "      <td>0.0</td>\n",
       "      <td>'Less than 5 hours'</td>\n",
       "      <td>Healthy</td>\n",
       "      <td>BA</td>\n",
       "      <td>No</td>\n",
       "      <td>9.0</td>\n",
       "      <td>1.0</td>\n",
       "      <td>Yes</td>\n",
       "      <td>0</td>\n",
       "    </tr>\n",
       "    <tr>\n",
       "      <th>3</th>\n",
       "      <td>30</td>\n",
       "      <td>Female</td>\n",
       "      <td>28.0</td>\n",
       "      <td>Varanasi</td>\n",
       "      <td>Student</td>\n",
       "      <td>3.0</td>\n",
       "      <td>0.0</td>\n",
       "      <td>5.59</td>\n",
       "      <td>2.0</td>\n",
       "      <td>0.0</td>\n",
       "      <td>'7-8 hours'</td>\n",
       "      <td>Moderate</td>\n",
       "      <td>BCA</td>\n",
       "      <td>Yes</td>\n",
       "      <td>4.0</td>\n",
       "      <td>5.0</td>\n",
       "      <td>Yes</td>\n",
       "      <td>1</td>\n",
       "    </tr>\n",
       "    <tr>\n",
       "      <th>4</th>\n",
       "      <td>32</td>\n",
       "      <td>Female</td>\n",
       "      <td>25.0</td>\n",
       "      <td>Jaipur</td>\n",
       "      <td>Student</td>\n",
       "      <td>4.0</td>\n",
       "      <td>0.0</td>\n",
       "      <td>8.13</td>\n",
       "      <td>3.0</td>\n",
       "      <td>0.0</td>\n",
       "      <td>'5-6 hours'</td>\n",
       "      <td>Moderate</td>\n",
       "      <td>M.Tech</td>\n",
       "      <td>Yes</td>\n",
       "      <td>1.0</td>\n",
       "      <td>1.0</td>\n",
       "      <td>No</td>\n",
       "      <td>0</td>\n",
       "    </tr>\n",
       "  </tbody>\n",
       "</table>\n",
       "</div>"
      ],
      "text/plain": [
       "   id  Gender   Age           City Profession  Academic Pressure  \\\n",
       "0   2    Male  33.0  Visakhapatnam    Student                5.0   \n",
       "1   8  Female  24.0      Bangalore    Student                2.0   \n",
       "2  26    Male  31.0       Srinagar    Student                3.0   \n",
       "3  30  Female  28.0       Varanasi    Student                3.0   \n",
       "4  32  Female  25.0         Jaipur    Student                4.0   \n",
       "\n",
       "   Work Pressure  CGPA  Study Satisfaction  Job Satisfaction  \\\n",
       "0            0.0  8.97                 2.0               0.0   \n",
       "1            0.0  5.90                 5.0               0.0   \n",
       "2            0.0  7.03                 5.0               0.0   \n",
       "3            0.0  5.59                 2.0               0.0   \n",
       "4            0.0  8.13                 3.0               0.0   \n",
       "\n",
       "        Sleep Duration Dietary Habits   Degree  \\\n",
       "0          '5-6 hours'        Healthy  B.Pharm   \n",
       "1          '5-6 hours'       Moderate      BSc   \n",
       "2  'Less than 5 hours'        Healthy       BA   \n",
       "3          '7-8 hours'       Moderate      BCA   \n",
       "4          '5-6 hours'       Moderate   M.Tech   \n",
       "\n",
       "  Have you ever had suicidal thoughts ?  Work/Study Hours Financial Stress  \\\n",
       "0                                   Yes               3.0              1.0   \n",
       "1                                    No               3.0              2.0   \n",
       "2                                    No               9.0              1.0   \n",
       "3                                   Yes               4.0              5.0   \n",
       "4                                   Yes               1.0              1.0   \n",
       "\n",
       "  Family History of Mental Illness  Depression  \n",
       "0                               No           1  \n",
       "1                              Yes           0  \n",
       "2                              Yes           0  \n",
       "3                              Yes           1  \n",
       "4                               No           0  "
      ]
     },
     "execution_count": 4,
     "metadata": {},
     "output_type": "execute_result"
    }
   ],
   "source": [
    "df.head()\n"
   ]
  },
  {
   "cell_type": "code",
   "execution_count": 5,
   "id": "a8ba3a2a-4220-4e46-b19a-330870aebda3",
   "metadata": {},
   "outputs": [
    {
     "name": "stdout",
     "output_type": "stream",
     "text": [
      "<class 'pandas.core.frame.DataFrame'>\n",
      "RangeIndex: 27901 entries, 0 to 27900\n",
      "Data columns (total 18 columns):\n",
      " #   Column                                 Non-Null Count  Dtype  \n",
      "---  ------                                 --------------  -----  \n",
      " 0   id                                     27901 non-null  int64  \n",
      " 1   Gender                                 27901 non-null  object \n",
      " 2   Age                                    27901 non-null  float64\n",
      " 3   City                                   27901 non-null  object \n",
      " 4   Profession                             27901 non-null  object \n",
      " 5   Academic Pressure                      27901 non-null  float64\n",
      " 6   Work Pressure                          27901 non-null  float64\n",
      " 7   CGPA                                   27901 non-null  float64\n",
      " 8   Study Satisfaction                     27901 non-null  float64\n",
      " 9   Job Satisfaction                       27901 non-null  float64\n",
      " 10  Sleep Duration                         27901 non-null  object \n",
      " 11  Dietary Habits                         27901 non-null  object \n",
      " 12  Degree                                 27901 non-null  object \n",
      " 13  Have you ever had suicidal thoughts ?  27901 non-null  object \n",
      " 14  Work/Study Hours                       27901 non-null  float64\n",
      " 15  Financial Stress                       27901 non-null  object \n",
      " 16  Family History of Mental Illness       27901 non-null  object \n",
      " 17  Depression                             27901 non-null  int64  \n",
      "dtypes: float64(7), int64(2), object(9)\n",
      "memory usage: 3.8+ MB\n"
     ]
    }
   ],
   "source": [
    "df.info()"
   ]
  },
  {
   "cell_type": "code",
   "execution_count": 6,
   "id": "badcc96b-3483-4f62-94e7-461e2553407e",
   "metadata": {},
   "outputs": [
    {
     "data": {
      "text/html": [
       "<div>\n",
       "<style scoped>\n",
       "    .dataframe tbody tr th:only-of-type {\n",
       "        vertical-align: middle;\n",
       "    }\n",
       "\n",
       "    .dataframe tbody tr th {\n",
       "        vertical-align: top;\n",
       "    }\n",
       "\n",
       "    .dataframe thead th {\n",
       "        text-align: right;\n",
       "    }\n",
       "</style>\n",
       "<table border=\"1\" class=\"dataframe\">\n",
       "  <thead>\n",
       "    <tr style=\"text-align: right;\">\n",
       "      <th></th>\n",
       "      <th>id</th>\n",
       "      <th>Age</th>\n",
       "      <th>Academic Pressure</th>\n",
       "      <th>Work Pressure</th>\n",
       "      <th>CGPA</th>\n",
       "      <th>Study Satisfaction</th>\n",
       "      <th>Job Satisfaction</th>\n",
       "      <th>Work/Study Hours</th>\n",
       "      <th>Depression</th>\n",
       "    </tr>\n",
       "  </thead>\n",
       "  <tbody>\n",
       "    <tr>\n",
       "      <th>count</th>\n",
       "      <td>27901.000000</td>\n",
       "      <td>27901.000000</td>\n",
       "      <td>27901.000000</td>\n",
       "      <td>27901.000000</td>\n",
       "      <td>27901.000000</td>\n",
       "      <td>27901.000000</td>\n",
       "      <td>27901.000000</td>\n",
       "      <td>27901.000000</td>\n",
       "      <td>27901.000000</td>\n",
       "    </tr>\n",
       "    <tr>\n",
       "      <th>mean</th>\n",
       "      <td>70442.149421</td>\n",
       "      <td>25.822300</td>\n",
       "      <td>3.141214</td>\n",
       "      <td>0.000430</td>\n",
       "      <td>7.656104</td>\n",
       "      <td>2.943837</td>\n",
       "      <td>0.000681</td>\n",
       "      <td>7.156984</td>\n",
       "      <td>0.585499</td>\n",
       "    </tr>\n",
       "    <tr>\n",
       "      <th>std</th>\n",
       "      <td>40641.175216</td>\n",
       "      <td>4.905687</td>\n",
       "      <td>1.381465</td>\n",
       "      <td>0.043992</td>\n",
       "      <td>1.470707</td>\n",
       "      <td>1.361148</td>\n",
       "      <td>0.044394</td>\n",
       "      <td>3.707642</td>\n",
       "      <td>0.492645</td>\n",
       "    </tr>\n",
       "    <tr>\n",
       "      <th>min</th>\n",
       "      <td>2.000000</td>\n",
       "      <td>18.000000</td>\n",
       "      <td>0.000000</td>\n",
       "      <td>0.000000</td>\n",
       "      <td>0.000000</td>\n",
       "      <td>0.000000</td>\n",
       "      <td>0.000000</td>\n",
       "      <td>0.000000</td>\n",
       "      <td>0.000000</td>\n",
       "    </tr>\n",
       "    <tr>\n",
       "      <th>25%</th>\n",
       "      <td>35039.000000</td>\n",
       "      <td>21.000000</td>\n",
       "      <td>2.000000</td>\n",
       "      <td>0.000000</td>\n",
       "      <td>6.290000</td>\n",
       "      <td>2.000000</td>\n",
       "      <td>0.000000</td>\n",
       "      <td>4.000000</td>\n",
       "      <td>0.000000</td>\n",
       "    </tr>\n",
       "    <tr>\n",
       "      <th>50%</th>\n",
       "      <td>70684.000000</td>\n",
       "      <td>25.000000</td>\n",
       "      <td>3.000000</td>\n",
       "      <td>0.000000</td>\n",
       "      <td>7.770000</td>\n",
       "      <td>3.000000</td>\n",
       "      <td>0.000000</td>\n",
       "      <td>8.000000</td>\n",
       "      <td>1.000000</td>\n",
       "    </tr>\n",
       "    <tr>\n",
       "      <th>75%</th>\n",
       "      <td>105818.000000</td>\n",
       "      <td>30.000000</td>\n",
       "      <td>4.000000</td>\n",
       "      <td>0.000000</td>\n",
       "      <td>8.920000</td>\n",
       "      <td>4.000000</td>\n",
       "      <td>0.000000</td>\n",
       "      <td>10.000000</td>\n",
       "      <td>1.000000</td>\n",
       "    </tr>\n",
       "    <tr>\n",
       "      <th>max</th>\n",
       "      <td>140699.000000</td>\n",
       "      <td>59.000000</td>\n",
       "      <td>5.000000</td>\n",
       "      <td>5.000000</td>\n",
       "      <td>10.000000</td>\n",
       "      <td>5.000000</td>\n",
       "      <td>4.000000</td>\n",
       "      <td>12.000000</td>\n",
       "      <td>1.000000</td>\n",
       "    </tr>\n",
       "  </tbody>\n",
       "</table>\n",
       "</div>"
      ],
      "text/plain": [
       "                  id           Age  Academic Pressure  Work Pressure  \\\n",
       "count   27901.000000  27901.000000       27901.000000   27901.000000   \n",
       "mean    70442.149421     25.822300           3.141214       0.000430   \n",
       "std     40641.175216      4.905687           1.381465       0.043992   \n",
       "min         2.000000     18.000000           0.000000       0.000000   \n",
       "25%     35039.000000     21.000000           2.000000       0.000000   \n",
       "50%     70684.000000     25.000000           3.000000       0.000000   \n",
       "75%    105818.000000     30.000000           4.000000       0.000000   \n",
       "max    140699.000000     59.000000           5.000000       5.000000   \n",
       "\n",
       "               CGPA  Study Satisfaction  Job Satisfaction  Work/Study Hours  \\\n",
       "count  27901.000000        27901.000000      27901.000000      27901.000000   \n",
       "mean       7.656104            2.943837          0.000681          7.156984   \n",
       "std        1.470707            1.361148          0.044394          3.707642   \n",
       "min        0.000000            0.000000          0.000000          0.000000   \n",
       "25%        6.290000            2.000000          0.000000          4.000000   \n",
       "50%        7.770000            3.000000          0.000000          8.000000   \n",
       "75%        8.920000            4.000000          0.000000         10.000000   \n",
       "max       10.000000            5.000000          4.000000         12.000000   \n",
       "\n",
       "         Depression  \n",
       "count  27901.000000  \n",
       "mean       0.585499  \n",
       "std        0.492645  \n",
       "min        0.000000  \n",
       "25%        0.000000  \n",
       "50%        1.000000  \n",
       "75%        1.000000  \n",
       "max        1.000000  "
      ]
     },
     "execution_count": 6,
     "metadata": {},
     "output_type": "execute_result"
    }
   ],
   "source": [
    "df.describe()"
   ]
  },
  {
   "cell_type": "code",
   "execution_count": 7,
   "id": "5ddb1600-a60f-473a-ae19-55c83be0f5ab",
   "metadata": {},
   "outputs": [
    {
     "data": {
      "text/plain": [
       "Index(['id', 'Gender', 'Age', 'City', 'Profession', 'Academic Pressure',\n",
       "       'Work Pressure', 'CGPA', 'Study Satisfaction', 'Job Satisfaction',\n",
       "       'Sleep Duration', 'Dietary Habits', 'Degree',\n",
       "       'Have you ever had suicidal thoughts ?', 'Work/Study Hours',\n",
       "       'Financial Stress', 'Family History of Mental Illness', 'Depression'],\n",
       "      dtype='object')"
      ]
     },
     "execution_count": 7,
     "metadata": {},
     "output_type": "execute_result"
    }
   ],
   "source": [
    "df.columns"
   ]
  },
  {
   "cell_type": "code",
   "execution_count": 8,
   "id": "4ae7d55e-6545-4753-bf7d-94faa3092e04",
   "metadata": {},
   "outputs": [
    {
     "data": {
      "image/png": "[encoded data removed]",
      "text/plain": [
       "<Figure size 640x480 with 1 Axes>"
      ]
     },
     "metadata": {},
     "output_type": "display_data"
    }
   ],
   "source": [
    "sns.countplot(data=df,x=\"Depression\");"
   ]
  },
  {
   "cell_type": "code",
   "execution_count": 9,
   "id": "99bee45d-d27d-406e-a4e2-236bde23781b",
   "metadata": {},
   "outputs": [
    {
     "ename": "SyntaxError",
     "evalue": "invalid syntax (2999474834.py, line 1)",
     "output_type": "error",
     "traceback": [
      "\u001b[1;36m  Cell \u001b[1;32mIn[9], line 1\u001b[1;36m\u001b[0m\n\u001b[1;33m    There more depressed students than non depressed\u001b[0m\n\u001b[1;37m          ^\u001b[0m\n\u001b[1;31mSyntaxError\u001b[0m\u001b[1;31m:\u001b[0m invalid syntax\n"
     ]
    }
   ],
   "source": [
    "There more depressed students than non depressed"
   ]
  },
  {
   "cell_type": "code",
   "execution_count": 10,
   "id": "05a2b54d-c62a-458d-9c30-bb617cb8f234",
   "metadata": {},
   "outputs": [
    {
     "data": {
      "image/png": "[encoded data removed]",
      "text/plain": [
       "<Figure size 640x480 with 1 Axes>"
      ]
     },
     "metadata": {},
     "output_type": "display_data"
    }
   ],
   "source": [
    "sns.countplot(data=df,x=\"Depression\",hue=\"Age\");"
   ]
  },
  {
   "cell_type": "code",
   "execution_count": 11,
   "id": "9d9efe09-eb13-4398-8411-d4e8a048b91c",
   "metadata": {},
   "outputs": [
    {
     "data": {
      "image/png": "[encoded data removed]",
      "text/plain": [
       "<Figure size 640x480 with 1 Axes>"
      ]
     },
     "metadata": {},
     "output_type": "display_data"
    }
   ],
   "source": [
    "sns.countplot(data=df,x=\"Academic Pressure\",hue=\"Depression\");"
   ]
  },
  {
   "cell_type": "code",
   "execution_count": null,
   "id": "790ff4fd-80fc-4fd0-962c-e410e1c34d46",
   "metadata": {},
   "outputs": [],
   "source": [
    "Depression increases with work pressure"
   ]
  },
  {
   "cell_type": "code",
   "execution_count": 12,
   "id": "021b64a4-1baf-44b3-851a-c6118784b85b",
   "metadata": {},
   "outputs": [
    {
     "data": {
      "image/png": "[encoded data removed]",
      "text/plain": [
       "<Figure size 640x480 with 1 Axes>"
      ]
     },
     "metadata": {},
     "output_type": "display_data"
    }
   ],
   "source": [
    "sns.countplot(data=df,x=\"Depression\",hue=\"Gender\");"
   ]
  },
  {
   "cell_type": "code",
   "execution_count": null,
   "id": "3d23cc12-b4c1-49b7-a8f0-7360302526a0",
   "metadata": {},
   "outputs": [],
   "source": [
    "More male students are depressed than female"
   ]
  },
  {
   "cell_type": "code",
   "execution_count": 13,
   "id": "696aeb2d-8075-4542-a380-21fafc879d64",
   "metadata": {},
   "outputs": [
    {
     "name": "stderr",
     "output_type": "stream",
     "text": [
      "C:\\Users\\sreer\\AppData\\Local\\Temp\\ipykernel_14288\\444590024.py:1: UserWarning: \n",
      "\n",
      "`distplot` is a deprecated function and will be removed in seaborn v0.14.0.\n",
      "\n",
      "Please adapt your code to use either `displot` (a figure-level function with\n",
      "similar flexibility) or `histplot` (an axes-level function for histograms).\n",
      "\n",
      "For a guide to updating your code to use the new functions, please see\n",
      "https://gist.github.com/mwaskom/de44147ed2974457ad6372750bbe5751\n",
      "\n",
      "  sns.distplot(df[\"Age\"]);\n"
     ]
    },
    {
     "data": {
      "image/png": "[encoded data removed]",
      "text/plain": [
       "<Figure size 640x480 with 1 Axes>"
      ]
     },
     "metadata": {},
     "output_type": "display_data"
    }
   ],
   "source": [
    "sns.distplot(df[\"Age\"]);"
   ]
  },
  {
   "cell_type": "code",
   "execution_count": null,
   "id": "0630edac-f4c5-4554-aba0-c991ec5310b2",
   "metadata": {},
   "outputs": [],
   "source": [
    "df[df[\"Depression\"]==1][\"Age\"].mean()"
   ]
  },
  {
   "cell_type": "code",
   "execution_count": null,
   "id": "b791ab92-3682-46f7-88d3-8917172d2361",
   "metadata": {},
   "outputs": [],
   "source": [
    "df[df[\"Depression\"]==0][\"Age\"].mean()"
   ]
  },
  {
   "cell_type": "code",
   "execution_count": null,
   "id": "7c841a70-e687-48ea-8e1d-1fb2b8ed50f5",
   "metadata": {},
   "outputs": [],
   "source": [
    "On average, depressed students are older than non-depressed students "
   ]
  },
  {
   "cell_type": "code",
   "execution_count": null,
   "id": "cad99c37-7f3d-4396-900b-d0bd9c0d95d6",
   "metadata": {},
   "outputs": [],
   "source": [
    "sns.countplot(data=df,x=\"Depression\",hue=\"Sleep Duration\");"
   ]
  },
  {
   "cell_type": "code",
   "execution_count": null,
   "id": "d7336088-f233-4902-91ba-cb5cf5a42335",
   "metadata": {},
   "outputs": [],
   "source": [
    "Students who sleep less tends to be more depressed"
   ]
  },
  {
   "cell_type": "code",
   "execution_count": null,
   "id": "2485cdd8-41e2-41ae-8df2-21175c37f49c",
   "metadata": {},
   "outputs": [],
   "source": [
    "sns.countplot(data=df,x=\"Sleep Duration\",hue=\"Gender\");\n",
    "plt.xticks(rotation=90)\n",
    "plt.show()"
   ]
  },
  {
   "cell_type": "code",
   "execution_count": null,
   "id": "04342a63-25a7-4b69-baee-23e3831812d1",
   "metadata": {},
   "outputs": [],
   "source": [
    "sns.countplot(data=df,x=\"Age\",hue=\"Sleep Duration\");\n",
    "plt.xticks(rotation=90)\n",
    "plt.show()"
   ]
  },
  {
   "cell_type": "code",
   "execution_count": null,
   "id": "8b81b64b-d595-436d-a4f8-06b8d4179f7e",
   "metadata": {},
   "outputs": [],
   "source": [
    "sns.countplot(data=df,x=\"Degree\");\n",
    "plt.xticks(rotation=90)\n",
    "plt.show()"
   ]
  },
  {
   "cell_type": "code",
   "execution_count": null,
   "id": "848614bf-cdc4-4757-b220-8514db9850f5",
   "metadata": {},
   "outputs": [],
   "source": [
    "There are more class 12 students in the dataset"
   ]
  },
  {
   "cell_type": "code",
   "execution_count": null,
   "id": "4ac1d994-8d27-4d53-9c19-c051da39fc6d",
   "metadata": {},
   "outputs": [],
   "source": [
    "sns.countplot(data=df,x=\"Degree\",hue=\"Depression\");\n",
    "plt.xticks(rotation=90)\n",
    "plt.show()"
   ]
  },
  {
   "cell_type": "code",
   "execution_count": null,
   "id": "d125ca78-352a-4111-9380-4aae4852f5b9",
   "metadata": {},
   "outputs": [],
   "source": [
    "There are more depressed students than non depressed students in each degree and class 12 has more than double depresssed students than non depresed ones"
   ]
  },
  {
   "cell_type": "code",
   "execution_count": 1,
   "id": "a74f3e17-28ca-452c-b0dc-ec8b313a4326",
   "metadata": {},
   "outputs": [
    {
     "ename": "NameError",
     "evalue": "name 'plt' is not defined",
     "output_type": "error",
     "traceback": [
      "\u001b[1;31m---------------------------------------------------------------------------\u001b[0m",
      "\u001b[1;31mNameError\u001b[0m                                 Traceback (most recent call last)",
      "Cell \u001b[1;32mIn[1], line 1\u001b[0m\n\u001b[1;32m----> 1\u001b[0m plt\u001b[38;5;241m.\u001b[39mhist(df[\u001b[38;5;124m\"\u001b[39m\u001b[38;5;124mAcademic Pressure\u001b[39m\u001b[38;5;124m\"\u001b[39m])\n",
      "\u001b[1;31mNameError\u001b[0m: name 'plt' is not defined"
     ]
    }
   ],
   "source": [
    "plt.hist(df[\"Academic Pressure\"]);"
   ]
  },
  {
   "cell_type": "code",
   "execution_count": null,
   "id": "fca6350f-cec2-4b4d-b5c5-623e919dd8ce",
   "metadata": {},
   "outputs": [],
   "source": [
    "Most students have an academic pressure between 4 and 5"
   ]
  },
  {
   "cell_type": "code",
   "execution_count": 2,
   "id": "2efcd475-ff76-4af8-9f9b-96b0154003db",
   "metadata": {},
   "outputs": [
    {
     "ename": "NameError",
     "evalue": "name 'sns' is not defined",
     "output_type": "error",
     "traceback": [
      "\u001b[1;31m---------------------------------------------------------------------------\u001b[0m",
      "\u001b[1;31mNameError\u001b[0m                                 Traceback (most recent call last)",
      "Cell \u001b[1;32mIn[2], line 1\u001b[0m\n\u001b[1;32m----> 1\u001b[0m sns\u001b[38;5;241m.\u001b[39mcountplot(data\u001b[38;5;241m=\u001b[39mdf,x\u001b[38;5;241m=\u001b[39m\u001b[38;5;124m\"\u001b[39m\u001b[38;5;124mDepression\u001b[39m\u001b[38;5;124m\"\u001b[39m,hue\u001b[38;5;241m=\u001b[39m\u001b[38;5;124m\"\u001b[39m\u001b[38;5;124mWork/Study Hours\u001b[39m\u001b[38;5;124m\"\u001b[39m)\n",
      "\u001b[1;31mNameError\u001b[0m: name 'sns' is not defined"
     ]
    }
   ],
   "source": [
    "sns.countplot(data=df,x=\"Depression\",hue=\"Work/Study Hours\");"
   ]
  },
  {
   "cell_type": "markdown",
   "id": "e6235c3c-8c47-4411-9800-ce52f063127d",
   "metadata": {},
   "source": [
    "Higher work or study hours also causes depression"
   ]
  },
  {
   "cell_type": "code",
   "execution_count": null,
   "id": "1be21a46-b66b-4f8a-b852-874c91396bb4",
   "metadata": {},
   "outputs": [],
   "source": [
    "sns.distplot(df[\"CGPA\"]);"
   ]
  },
  {
   "cell_type": "code",
   "execution_count": null,
   "id": "8ef3d364-8dcc-4ade-94fc-f2d606d812f4",
   "metadata": {},
   "outputs": [],
   "source": [
    "sns.boxplot(data=df);\n",
    "plt.xticks(rotation=90)\n",
    "plt.show()"
   ]
  },
  {
   "cell_type": "code",
   "execution_count": null,
   "id": "50c89a8c-ca78-4fba-a2ab-cb161a6d74d8",
   "metadata": {},
   "outputs": [],
   "source": [
    "plt.grid()\n",
    "sns.boxplot(data=df,x=\"Academic Pressure\");"
   ]
  },
  {
   "cell_type": "code",
   "execution_count": null,
   "id": "49079e91-e0a0-440a-8f35-b7dfc164b69d",
   "metadata": {},
   "outputs": [],
   "source": [
    "plt.grid()\n",
    "sns.boxplot(data=df,x=\"Age\");"
   ]
  },
  {
   "cell_type": "code",
   "execution_count": null,
   "id": "da97870b-2756-4612-ad6c-99989a7adf2e",
   "metadata": {},
   "outputs": [],
   "source": [
    "There are upper outliers for age"
   ]
  },
  {
   "cell_type": "code",
   "execution_count": null,
   "id": "50a229ee-1e63-4e7a-af99-a6383d7c0a44",
   "metadata": {},
   "outputs": [],
   "source": [
    "plt.grid()\n",
    "sns.boxplot(data=df,x=\"CGPA\");"
   ]
  },
  {
   "cell_type": "code",
   "execution_count": null,
   "id": "1e09e696-a918-49eb-b180-bf823143a265",
   "metadata": {},
   "outputs": [],
   "source": [
    "plt.grid()\n",
    "sns.boxplot(data=df,x=\"Financial Stress\");"
   ]
  },
  {
   "cell_type": "code",
   "execution_count": null,
   "id": "8e95112b-31e4-43c9-90d8-c75154746b88",
   "metadata": {},
   "outputs": [],
   "source": [
    "There are no outliers"
   ]
  },
  {
   "cell_type": "code",
   "execution_count": null,
   "id": "15afba47-0d70-4d99-911f-c7640d974a7c",
   "metadata": {},
   "outputs": [],
   "source": [
    "plt.scatter(df[\"Academic Pressure\"],df[\"Age\"]);"
   ]
  },
  {
   "cell_type": "code",
   "execution_count": null,
   "id": "4738a1b0-558e-4c0c-86ec-4eed2e62c446",
   "metadata": {},
   "outputs": [],
   "source": [
    "There "
   ]
  },
  {
   "cell_type": "code",
   "execution_count": null,
   "id": "8064913b-727f-4550-a307-d1539767724d",
   "metadata": {},
   "outputs": [],
   "source": [
    "plt.hist(data=df,x=\"Dietary Habits\");"
   ]
  },
  {
   "cell_type": "code",
   "execution_count": null,
   "id": "ae0c5ab4-9da6-4e0b-bb0d-93080b9b55a0",
   "metadata": {},
   "outputs": [],
   "source": [
    "Most Students have unhealthy dietry habits"
   ]
  },
  {
   "cell_type": "code",
   "execution_count": null,
   "id": "fe709bff-796f-4315-9c69-d3ea8016dc60",
   "metadata": {},
   "outputs": [],
   "source": [
    "sns.countplot(data=df,x=\"Depression\",hue=\"Dietary Habits\");"
   ]
  },
  {
   "cell_type": "code",
   "execution_count": null,
   "id": "fc29afec-200e-4f31-a59d-6101f4f2900e",
   "metadata": {},
   "outputs": [],
   "source": [
    "Depressed students have unhealthy dietry habits"
   ]
  },
  {
   "cell_type": "code",
   "execution_count": null,
   "id": "78c1a6de-4c2b-43c8-be1a-3ea965d05b9d",
   "metadata": {},
   "outputs": [],
   "source": [
    "plt.hist(data=df,x=\"Age\");"
   ]
  },
  {
   "cell_type": "code",
   "execution_count": 8,
   "id": "caa0f2ca-0dd2-4b00-a424-cd02a2d7d420",
   "metadata": {},
   "outputs": [
    {
     "data": {
      "text/html": [
       "<div>\n",
       "<style scoped>\n",
       "    .dataframe tbody tr th:only-of-type {\n",
       "        vertical-align: middle;\n",
       "    }\n",
       "\n",
       "    .dataframe tbody tr th {\n",
       "        vertical-align: top;\n",
       "    }\n",
       "\n",
       "    .dataframe thead th {\n",
       "        text-align: right;\n",
       "    }\n",
       "</style>\n",
       "<table border=\"1\" class=\"dataframe\">\n",
       "  <thead>\n",
       "    <tr style=\"text-align: right;\">\n",
       "      <th></th>\n",
       "      <th>id</th>\n",
       "      <th>Gender</th>\n",
       "      <th>Age</th>\n",
       "      <th>City</th>\n",
       "      <th>Profession</th>\n",
       "      <th>Academic Pressure</th>\n",
       "      <th>Work Pressure</th>\n",
       "      <th>CGPA</th>\n",
       "      <th>Study Satisfaction</th>\n",
       "      <th>Job Satisfaction</th>\n",
       "      <th>Sleep Duration</th>\n",
       "      <th>Dietary Habits</th>\n",
       "      <th>Degree</th>\n",
       "      <th>Have you ever had suicidal thoughts ?</th>\n",
       "      <th>Work/Study Hours</th>\n",
       "      <th>Financial Stress</th>\n",
       "      <th>Family History of Mental Illness</th>\n",
       "      <th>Depression</th>\n",
       "    </tr>\n",
       "  </thead>\n",
       "  <tbody>\n",
       "    <tr>\n",
       "      <th>27896</th>\n",
       "      <td>140685</td>\n",
       "      <td>Female</td>\n",
       "      <td>27.0</td>\n",
       "      <td>Surat</td>\n",
       "      <td>Student</td>\n",
       "      <td>5.0</td>\n",
       "      <td>0.0</td>\n",
       "      <td>5.75</td>\n",
       "      <td>5.0</td>\n",
       "      <td>0.0</td>\n",
       "      <td>'5-6 hours'</td>\n",
       "      <td>Unhealthy</td>\n",
       "      <td>'Class 12'</td>\n",
       "      <td>Yes</td>\n",
       "      <td>7.0</td>\n",
       "      <td>1.0</td>\n",
       "      <td>Yes</td>\n",
       "      <td>0</td>\n",
       "    </tr>\n",
       "    <tr>\n",
       "      <th>27897</th>\n",
       "      <td>140686</td>\n",
       "      <td>Male</td>\n",
       "      <td>27.0</td>\n",
       "      <td>Ludhiana</td>\n",
       "      <td>Student</td>\n",
       "      <td>2.0</td>\n",
       "      <td>0.0</td>\n",
       "      <td>9.40</td>\n",
       "      <td>3.0</td>\n",
       "      <td>0.0</td>\n",
       "      <td>'Less than 5 hours'</td>\n",
       "      <td>Healthy</td>\n",
       "      <td>MSc</td>\n",
       "      <td>No</td>\n",
       "      <td>0.0</td>\n",
       "      <td>3.0</td>\n",
       "      <td>Yes</td>\n",
       "      <td>0</td>\n",
       "    </tr>\n",
       "    <tr>\n",
       "      <th>27898</th>\n",
       "      <td>140689</td>\n",
       "      <td>Male</td>\n",
       "      <td>31.0</td>\n",
       "      <td>Faridabad</td>\n",
       "      <td>Student</td>\n",
       "      <td>3.0</td>\n",
       "      <td>0.0</td>\n",
       "      <td>6.61</td>\n",
       "      <td>4.0</td>\n",
       "      <td>0.0</td>\n",
       "      <td>'5-6 hours'</td>\n",
       "      <td>Unhealthy</td>\n",
       "      <td>MD</td>\n",
       "      <td>No</td>\n",
       "      <td>12.0</td>\n",
       "      <td>2.0</td>\n",
       "      <td>No</td>\n",
       "      <td>0</td>\n",
       "    </tr>\n",
       "    <tr>\n",
       "      <th>27899</th>\n",
       "      <td>140690</td>\n",
       "      <td>Female</td>\n",
       "      <td>18.0</td>\n",
       "      <td>Ludhiana</td>\n",
       "      <td>Student</td>\n",
       "      <td>5.0</td>\n",
       "      <td>0.0</td>\n",
       "      <td>6.88</td>\n",
       "      <td>2.0</td>\n",
       "      <td>0.0</td>\n",
       "      <td>'Less than 5 hours'</td>\n",
       "      <td>Healthy</td>\n",
       "      <td>'Class 12'</td>\n",
       "      <td>Yes</td>\n",
       "      <td>10.0</td>\n",
       "      <td>5.0</td>\n",
       "      <td>No</td>\n",
       "      <td>1</td>\n",
       "    </tr>\n",
       "    <tr>\n",
       "      <th>27900</th>\n",
       "      <td>140699</td>\n",
       "      <td>Male</td>\n",
       "      <td>27.0</td>\n",
       "      <td>Patna</td>\n",
       "      <td>Student</td>\n",
       "      <td>4.0</td>\n",
       "      <td>0.0</td>\n",
       "      <td>9.24</td>\n",
       "      <td>1.0</td>\n",
       "      <td>0.0</td>\n",
       "      <td>'Less than 5 hours'</td>\n",
       "      <td>Healthy</td>\n",
       "      <td>BCA</td>\n",
       "      <td>Yes</td>\n",
       "      <td>2.0</td>\n",
       "      <td>3.0</td>\n",
       "      <td>Yes</td>\n",
       "      <td>1</td>\n",
       "    </tr>\n",
       "  </tbody>\n",
       "</table>\n",
       "</div>"
      ],
      "text/plain": [
       "           id  Gender   Age       City Profession  Academic Pressure  \\\n",
       "27896  140685  Female  27.0      Surat    Student                5.0   \n",
       "27897  140686    Male  27.0   Ludhiana    Student                2.0   \n",
       "27898  140689    Male  31.0  Faridabad    Student                3.0   \n",
       "27899  140690  Female  18.0   Ludhiana    Student                5.0   \n",
       "27900  140699    Male  27.0      Patna    Student                4.0   \n",
       "\n",
       "       Work Pressure  CGPA  Study Satisfaction  Job Satisfaction  \\\n",
       "27896            0.0  5.75                 5.0               0.0   \n",
       "27897            0.0  9.40                 3.0               0.0   \n",
       "27898            0.0  6.61                 4.0               0.0   \n",
       "27899            0.0  6.88                 2.0               0.0   \n",
       "27900            0.0  9.24                 1.0               0.0   \n",
       "\n",
       "            Sleep Duration Dietary Habits      Degree  \\\n",
       "27896          '5-6 hours'      Unhealthy  'Class 12'   \n",
       "27897  'Less than 5 hours'        Healthy         MSc   \n",
       "27898          '5-6 hours'      Unhealthy          MD   \n",
       "27899  'Less than 5 hours'        Healthy  'Class 12'   \n",
       "27900  'Less than 5 hours'        Healthy         BCA   \n",
       "\n",
       "      Have you ever had suicidal thoughts ?  Work/Study Hours  \\\n",
       "27896                                   Yes               7.0   \n",
       "27897                                    No               0.0   \n",
       "27898                                    No              12.0   \n",
       "27899                                   Yes              10.0   \n",
       "27900                                   Yes               2.0   \n",
       "\n",
       "      Financial Stress Family History of Mental Illness  Depression  \n",
       "27896              1.0                              Yes           0  \n",
       "27897              3.0                              Yes           0  \n",
       "27898              2.0                               No           0  \n",
       "27899              5.0                               No           1  \n",
       "27900              3.0                              Yes           1  "
      ]
     },
     "execution_count": 8,
     "metadata": {},
     "output_type": "execute_result"
    }
   ],
   "source": [
    "df.tail()"
   ]
  },
  {
   "cell_type": "code",
   "execution_count": 9,
   "id": "793e07cc-0666-43df-9009-671bcdd57ed4",
   "metadata": {},
   "outputs": [
    {
     "name": "stdout",
     "output_type": "stream",
     "text": [
      "<class 'pandas.core.frame.DataFrame'>\n",
      "RangeIndex: 27901 entries, 0 to 27900\n",
      "Data columns (total 18 columns):\n",
      " #   Column                                 Non-Null Count  Dtype  \n",
      "---  ------                                 --------------  -----  \n",
      " 0   id                                     27901 non-null  int64  \n",
      " 1   Gender                                 27901 non-null  object \n",
      " 2   Age                                    27901 non-null  float64\n",
      " 3   City                                   27901 non-null  object \n",
      " 4   Profession                             27901 non-null  object \n",
      " 5   Academic Pressure                      27901 non-null  float64\n",
      " 6   Work Pressure                          27901 non-null  float64\n",
      " 7   CGPA                                   27901 non-null  float64\n",
      " 8   Study Satisfaction                     27901 non-null  float64\n",
      " 9   Job Satisfaction                       27901 non-null  float64\n",
      " 10  Sleep Duration                         27901 non-null  object \n",
      " 11  Dietary Habits                         27901 non-null  object \n",
      " 12  Degree                                 27901 non-null  object \n",
      " 13  Have you ever had suicidal thoughts ?  27901 non-null  object \n",
      " 14  Work/Study Hours                       27901 non-null  float64\n",
      " 15  Financial Stress                       27901 non-null  object \n",
      " 16  Family History of Mental Illness       27901 non-null  object \n",
      " 17  Depression                             27901 non-null  int64  \n",
      "dtypes: float64(7), int64(2), object(9)\n",
      "memory usage: 3.8+ MB\n"
     ]
    }
   ],
   "source": [
    "df.info()"
   ]
  },
  {
   "cell_type": "code",
   "execution_count": 10,
   "id": "1dbeeb19-199d-4852-8384-c7edc64806c8",
   "metadata": {},
   "outputs": [
    {
     "data": {
      "text/plain": [
       "id                                       0\n",
       "Gender                                   0\n",
       "Age                                      0\n",
       "City                                     0\n",
       "Profession                               0\n",
       "Academic Pressure                        0\n",
       "Work Pressure                            0\n",
       "CGPA                                     0\n",
       "Study Satisfaction                       0\n",
       "Job Satisfaction                         0\n",
       "Sleep Duration                           0\n",
       "Dietary Habits                           0\n",
       "Degree                                   0\n",
       "Have you ever had suicidal thoughts ?    0\n",
       "Work/Study Hours                         0\n",
       "Financial Stress                         0\n",
       "Family History of Mental Illness         0\n",
       "Depression                               0\n",
       "dtype: int64"
      ]
     },
     "execution_count": 10,
     "metadata": {},
     "output_type": "execute_result"
    }
   ],
   "source": [
    "df.isna().sum()"
   ]
  },
  {
   "cell_type": "code",
   "execution_count": null,
   "id": "b72d99b7-41fb-46e7-a834-2a595f2eac30",
   "metadata": {},
   "outputs": [],
   "source": []
  }
 ],
 "metadata": {
  "kernelspec": {
   "display_name": "Python 3 (ipykernel)",
   "language": "python",
   "name": "python3"
  },
  "language_info": {
   "codemirror_mode": {
    "name": "ipython",
    "version": 3
   },
   "file_extension": ".py",
   "mimetype": "text/x-python",
   "name": "python",
   "nbconvert_exporter": "python",
   "pygments_lexer": "ipython3",
   "version": "3.12.7"
  }
 },
 "nbformat": 4,
 "nbformat_minor": 5
}
